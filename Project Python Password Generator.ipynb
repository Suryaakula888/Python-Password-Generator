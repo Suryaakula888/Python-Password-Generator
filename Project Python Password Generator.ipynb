{
 "cells": [
  {
   "cell_type": "code",
   "execution_count": 5,
   "id": "4cebd404",
   "metadata": {},
   "outputs": [],
   "source": [
    "import tkinter as tk \n",
    "\n",
    "# Function to be called when button is clicked\n",
    "def on_button_click():\n",
    "    label.config(text='Button clicked')\n",
    "\n",
    "# Create the main application window \n",
    "root = tk.Tk()\n",
    "root.title('Simple tkinter app')\n",
    "\n",
    "# Create label widget\n",
    "label = tk.Label(root, text='Hello Tkinter')  # Corrected `tk.label` to `tk.Label`\n",
    "label.pack(pady=20)\n",
    "\n",
    "# Button creation\n",
    "button = tk.Button(root, text='Click me', command=on_button_click)  # Fixed typo in button text\n",
    "button.pack(pady=20)\n",
    "\n",
    "root.mainloop()\n"
   ]
  },
  {
   "cell_type": "code",
   "execution_count": 21,
   "id": "3f7985bc",
   "metadata": {},
   "outputs": [],
   "source": [
    "from tkinter import *\n",
    "import random, string\n",
    "import pyperclip\n",
    "\n",
    "root = Tk()\n",
    "root.geometry(\"300x300\")\n",
    "root.resizable(0,0)\n",
    "root.title(\"PYTHON PROJECT  - PASSWORD GENERATOR\")\n",
    "\n",
    "Label(root, text='PASSWORD GENERATOR', font='arial 15 bold').pack()\n",
    "Label(root, text='SURYA', font='arial 15 bold').pack(side=BOTTOM)\n",
    "\n",
    "pass_label = Label(root, text='PASSWORD LENGTH', font='arial 10 bold').pack()\n",
    "pass_len = IntVar()\n",
    "length = Spinbox(root, from_=6, to_=32, textvariable=pass_len, width=20).pack()\n",
    "pass_str = StringVar()\n",
    "\n",
    "def Generator():\n",
    "    password = []\n",
    "    \n",
    "    # Ensuring at least one character from each type (Uppercase, Lowercase, Digits, Punctuation)\n",
    "    if pass_len.get() >= 4:\n",
    "        password.append(random.choice(string.ascii_uppercase))\n",
    "        password.append(random.choice(string.ascii_lowercase))\n",
    "        password.append(random.choice(string.digits))\n",
    "        password.append(random.choice(string.punctuation))\n",
    "\n",
    "        # Fill the rest with random choices until the specified length\n",
    "        for _ in range(pass_len.get() - 4):\n",
    "            password.append(random.choice(string.ascii_uppercase + string.ascii_lowercase + string.digits + string.punctuation))\n",
    "        \n",
    "        # Shuffle to ensure randomness\n",
    "        random.shuffle(password)\n",
    "    else:\n",
    "        # If length is less than 4, just fill the required length with random choices\n",
    "        for _ in range(pass_len.get()):\n",
    "            password.append(random.choice(string.ascii_uppercase + string.ascii_lowercase + string.digits + string.punctuation))\n",
    "    \n",
    "    # Convert list to string and set it to the variable\n",
    "    pass_str.set(''.join(password))\n",
    "\n",
    "\n",
    "\n",
    "def Copy_password():\n",
    "    pyperclip.copy(pass_str.get())\n",
    "\n",
    "Button(root, text='GENERATE PASSWORD', command=Generator).pack(pady=15)\n",
    "Entry(root, textvariable=pass_str).pack()\n",
    "Button(root, text='COPY TO CLIPBOARD', command=Copy_password).pack(pady=15)\n",
    "\n",
    "root.mainloop()"
   ]
  },
  {
   "cell_type": "code",
   "execution_count": null,
   "id": "b7ddc318",
   "metadata": {},
   "outputs": [],
   "source": [
    "\n"
   ]
  },
  {
   "cell_type": "code",
   "execution_count": null,
   "id": "a91b4419",
   "metadata": {},
   "outputs": [],
   "source": [
    "\n"
   ]
  }
 ],
 "metadata": {
  "kernelspec": {
   "display_name": "Python 3",
   "language": "python",
   "name": "python3"
  },
  "language_info": {
   "codemirror_mode": {
    "name": "ipython",
    "version": 3
   },
   "file_extension": ".py",
   "mimetype": "text/x-python",
   "name": "python",
   "nbconvert_exporter": "python",
   "pygments_lexer": "ipython3",
   "version": "3.8.8"
  }
 },
 "nbformat": 4,
 "nbformat_minor": 5
}
